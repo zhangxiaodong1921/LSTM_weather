{
 "cells": [
  {
   "cell_type": "code",
   "execution_count": 1,
   "metadata": {
    "collapsed": false
   },
   "outputs": [
    {
     "name": "stderr",
     "output_type": "stream",
     "text": [
      "Using TensorFlow backend.\n"
     ]
    }
   ],
   "source": [
    "import myFunctions\n",
    "\n",
    "import time\n",
    "\n",
    "import numpy as np\n",
    "import matplotlib.pyplot as plt\n",
    "from pandas import read_csv\n",
    "import math\n",
    "from keras.models import Sequential\n",
    "from keras.layers import Dense\n",
    "from keras.layers import LSTM\n",
    "from sklearn.preprocessing import MinMaxScaler\n",
    "from sklearn.metrics import mean_squared_error\n",
    "\n",
    "\n",
    "%matplotlib inline\n",
    "\n",
    "# fix random seed for reproducibility\n",
    "np.random.seed(7)\n",
    "\n",
    "# Set Number of Threads used\n",
    "NUM_THREADS = 8\n",
    "sess = tf.InteractiveSession(config=tf.ConfigProto(intra_op_parallelism_threads=NUM_THREADS))\n",
    "\n",
    "#num_CPU = 1\n",
    "#num_cores = 4\n",
    "#config = tf.ConfigProto(intra_op_parallelism_threads = num_cores,\n",
    "#                        inter_op_parallelism_threads = num_cores, \n",
    "#                        allow_soft_placement = True,\n",
    "#                        device_count = {'CPU' : num_CPU})\n",
    "#session = tf.Session(config=config)\n",
    "\n",
    "K.set_session(sess)"
   ]
  },
  {
   "cell_type": "markdown",
   "metadata": {},
   "source": [
    "#### Parameter"
   ]
  },
  {
   "cell_type": "code",
   "execution_count": 2,
   "metadata": {
    "collapsed": true
   },
   "outputs": [],
   "source": [
    "batch_size = 1\n",
    "epochs = 100\n",
    "look_back = 3"
   ]
  },
  {
   "cell_type": "markdown",
   "metadata": {},
   "source": [
    "#### Data"
   ]
  },
  {
   "cell_type": "code",
   "execution_count": 24,
   "metadata": {
    "collapsed": false
   },
   "outputs": [],
   "source": [
    "# Read\n",
    "df = myFunctions.read_data()\n",
    "dataset = df.values\n",
    "dataset = dataset.astype('float32')\n",
    "\n",
    "# Normalize\n",
    "dataset = MinMaxScaler(feature_range=(0, 1)).fit_transform(dataset)\n",
    "\n",
    "# Split into train and test sets\n",
    "train_size = int(len(dataset) * 0.67)\n",
    "test_size = len(dataset) - train_size\n",
    "train_data, test_data = dataset[0:train_size,:], dataset[train_size:len(dataset),:]\n",
    "\n",
    "# reshape into X=t and Y=t+1\n",
    "look_back = 1\n",
    "trainX, trainY = myFunctions.create_dataset(train_data, look_back)\n",
    "testX, testY = myFunctions.create_dataset(test_data, look_back)\n",
    "\n",
    "# The LSTM network expects the input data (X) to be provided with a specific \n",
    "# array structure in the form of: [samples, time steps, features].\n",
    "trainX = np.reshape(trainX, (trainX.shape[0], 1, trainX.shape[1]))\n",
    "testX = np.reshape(testX, (testX.shape[0], 1, testX.shape[1]))"
   ]
  },
  {
   "cell_type": "markdown",
   "metadata": {},
   "source": [
    "#### LSTM Model"
   ]
  },
  {
   "cell_type": "code",
   "execution_count": 25,
   "metadata": {
    "collapsed": false
   },
   "outputs": [
    {
     "name": "stdout",
     "output_type": "stream",
     "text": [
      "Epoch 1/100\n",
      "2s - loss: 0.0406\n",
      "Epoch 2/100\n",
      "0s - loss: 0.0208\n",
      "Epoch 3/100\n",
      "0s - loss: 0.0157\n",
      "Epoch 4/100\n",
      "0s - loss: 0.0142\n",
      "Epoch 5/100\n",
      "0s - loss: 0.0135\n",
      "Epoch 6/100\n",
      "0s - loss: 0.0127\n",
      "Epoch 7/100\n",
      "0s - loss: 0.0120\n",
      "Epoch 8/100\n",
      "0s - loss: 0.0114\n",
      "Epoch 9/100\n",
      "0s - loss: 0.0104\n",
      "Epoch 10/100\n",
      "0s - loss: 0.0095\n",
      "Epoch 11/100\n",
      "0s - loss: 0.0085\n",
      "Epoch 12/100\n",
      "0s - loss: 0.0075\n",
      "Epoch 13/100\n",
      "0s - loss: 0.0063\n",
      "Epoch 14/100\n",
      "0s - loss: 0.0052\n",
      "Epoch 15/100\n",
      "0s - loss: 0.0042\n",
      "Epoch 16/100\n",
      "0s - loss: 0.0034\n",
      "Epoch 17/100\n",
      "0s - loss: 0.0028\n",
      "Epoch 18/100\n",
      "0s - loss: 0.0025\n",
      "Epoch 19/100\n",
      "0s - loss: 0.0022\n",
      "Epoch 20/100\n",
      "0s - loss: 0.0021\n",
      "Epoch 21/100\n",
      "0s - loss: 0.0021\n",
      "Epoch 22/100\n",
      "0s - loss: 0.0020\n",
      "Epoch 23/100\n",
      "0s - loss: 0.0020\n",
      "Epoch 24/100\n",
      "0s - loss: 0.0020\n",
      "Epoch 25/100\n",
      "0s - loss: 0.0020\n",
      "Epoch 26/100\n",
      "0s - loss: 0.0020\n",
      "Epoch 27/100\n",
      "0s - loss: 0.0020\n",
      "Epoch 28/100\n",
      "0s - loss: 0.0021\n",
      "Epoch 29/100\n",
      "0s - loss: 0.0020\n",
      "Epoch 30/100\n",
      "0s - loss: 0.0020\n",
      "Epoch 31/100\n",
      "0s - loss: 0.0020\n",
      "Epoch 32/100\n",
      "0s - loss: 0.0020\n",
      "Epoch 33/100\n",
      "0s - loss: 0.0020\n",
      "Epoch 34/100\n",
      "0s - loss: 0.0020\n",
      "Epoch 35/100\n",
      "0s - loss: 0.0020\n",
      "Epoch 36/100\n",
      "0s - loss: 0.0020\n",
      "Epoch 37/100\n",
      "0s - loss: 0.0021\n",
      "Epoch 38/100\n",
      "0s - loss: 0.0021\n",
      "Epoch 39/100\n",
      "0s - loss: 0.0020\n",
      "Epoch 40/100\n",
      "0s - loss: 0.0020\n",
      "Epoch 41/100\n",
      "0s - loss: 0.0020\n",
      "Epoch 42/100\n",
      "0s - loss: 0.0021\n",
      "Epoch 43/100\n",
      "0s - loss: 0.0020\n",
      "Epoch 44/100\n",
      "0s - loss: 0.0020\n",
      "Epoch 45/100\n",
      "0s - loss: 0.0020\n",
      "Epoch 46/100\n",
      "0s - loss: 0.0021\n",
      "Epoch 47/100\n",
      "0s - loss: 0.0020\n",
      "Epoch 48/100\n",
      "0s - loss: 0.0020\n",
      "Epoch 49/100\n",
      "0s - loss: 0.0020\n",
      "Epoch 50/100\n",
      "0s - loss: 0.0020\n",
      "Epoch 51/100\n",
      "0s - loss: 0.0020\n",
      "Epoch 52/100\n",
      "0s - loss: 0.0020\n",
      "Epoch 53/100\n",
      "0s - loss: 0.0020\n",
      "Epoch 54/100\n",
      "0s - loss: 0.0020\n",
      "Epoch 55/100\n",
      "0s - loss: 0.0020\n",
      "Epoch 56/100\n",
      "0s - loss: 0.0020\n",
      "Epoch 57/100\n",
      "0s - loss: 0.0020\n",
      "Epoch 58/100\n",
      "0s - loss: 0.0020\n",
      "Epoch 59/100\n",
      "0s - loss: 0.0020\n",
      "Epoch 60/100\n",
      "0s - loss: 0.0020\n",
      "Epoch 61/100\n",
      "0s - loss: 0.0020\n",
      "Epoch 62/100\n",
      "0s - loss: 0.0021\n",
      "Epoch 63/100\n",
      "0s - loss: 0.0020\n",
      "Epoch 64/100\n",
      "0s - loss: 0.0019\n",
      "Epoch 65/100\n",
      "0s - loss: 0.0020\n",
      "Epoch 66/100\n",
      "0s - loss: 0.0020\n",
      "Epoch 67/100\n",
      "0s - loss: 0.0020\n",
      "Epoch 68/100\n",
      "0s - loss: 0.0020\n",
      "Epoch 69/100\n",
      "0s - loss: 0.0020\n",
      "Epoch 70/100\n",
      "0s - loss: 0.0020\n",
      "Epoch 71/100\n",
      "0s - loss: 0.0020\n",
      "Epoch 72/100\n",
      "0s - loss: 0.0020\n",
      "Epoch 73/100\n",
      "0s - loss: 0.0020\n",
      "Epoch 74/100\n",
      "0s - loss: 0.0020\n",
      "Epoch 75/100\n",
      "0s - loss: 0.0020\n",
      "Epoch 76/100\n",
      "0s - loss: 0.0020\n",
      "Epoch 77/100\n",
      "0s - loss: 0.0020\n",
      "Epoch 78/100\n",
      "0s - loss: 0.0020\n",
      "Epoch 79/100\n",
      "0s - loss: 0.0020\n",
      "Epoch 80/100\n",
      "0s - loss: 0.0020\n",
      "Epoch 81/100\n",
      "0s - loss: 0.0020\n",
      "Epoch 82/100\n",
      "0s - loss: 0.0020\n",
      "Epoch 83/100\n",
      "0s - loss: 0.0020\n",
      "Epoch 84/100\n",
      "0s - loss: 0.0020\n",
      "Epoch 85/100\n",
      "0s - loss: 0.0020\n",
      "Epoch 86/100\n",
      "0s - loss: 0.0020\n",
      "Epoch 87/100\n",
      "0s - loss: 0.0020\n",
      "Epoch 88/100\n",
      "0s - loss: 0.0020\n",
      "Epoch 89/100\n",
      "0s - loss: 0.0020\n",
      "Epoch 90/100\n",
      "0s - loss: 0.0020\n",
      "Epoch 91/100\n",
      "0s - loss: 0.0020\n",
      "Epoch 92/100\n",
      "0s - loss: 0.0020\n",
      "Epoch 93/100\n",
      "0s - loss: 0.0020\n",
      "Epoch 94/100\n",
      "0s - loss: 0.0019\n",
      "Epoch 95/100\n",
      "0s - loss: 0.0020\n",
      "Epoch 96/100\n",
      "0s - loss: 0.0020\n",
      "Epoch 97/100\n",
      "0s - loss: 0.0020\n",
      "Epoch 98/100\n",
      "0s - loss: 0.0020\n",
      "Epoch 99/100\n",
      "0s - loss: 0.0020\n",
      "Epoch 100/100\n",
      "0s - loss: 0.0021\n"
     ]
    },
    {
     "data": {
      "text/plain": [
       "<keras.callbacks.History at 0x127e69668>"
      ]
     },
     "execution_count": 25,
     "metadata": {},
     "output_type": "execute_result"
    }
   ],
   "source": [
    "# Create model\n",
    "model = Sequential()\n",
    "model.add(LSTM(4, input_shape=(1, look_back)))\n",
    "model.add(Dense(1))\n",
    "model.compile(loss='mean_squared_error', optimizer='adam')\n",
    "\n",
    "# Fit model\n",
    "model.fit(trainX, trainY, epochs=100, batch_size=1, verbose=2)"
   ]
  },
  {
   "cell_type": "code",
   "execution_count": 26,
   "metadata": {
    "collapsed": false
   },
   "outputs": [
    {
     "name": "stdout",
     "output_type": "stream",
     "text": [
      "Train Score: 23.08 RMSE\n",
      "Test Score: 51.41 RMSE\n"
     ]
    },
    {
     "data": {
      "image/png": "[encoded data removed]",
      "text/plain": [
       "<matplotlib.figure.Figure at 0x122bbbc88>"
      ]
     },
     "metadata": {},
     "output_type": "display_data"
    }
   ],
   "source": [
    "# make predictions\n",
    "trainPredict = model.predict(trainX)\n",
    "testPredict = model.predict(testX)\n",
    "\n",
    "# invert predictions\n",
    "trainPredict = scaler.inverse_transform(trainPredict)\n",
    "trainY = scaler.inverse_transform([trainY])\n",
    "testPredict = scaler.inverse_transform(testPredict)\n",
    "testY = scaler.inverse_transform([testY])\n",
    "\n",
    "# calculate root mean squared error\n",
    "trainScore = math.sqrt(mean_squared_error(trainY[0], trainPredict[:,0]))\n",
    "print('Train Score: %.2f RMSE' % (trainScore))\n",
    "testScore = math.sqrt(mean_squared_error(testY[0], testPredict[:,0]))\n",
    "print('Test Score: %.2f RMSE' % (testScore))\n",
    "\n",
    "# shift train predictions for plotting\n",
    "trainPredictPlot = np.empty_like(dataset)\n",
    "trainPredictPlot[:, :] = np.nan\n",
    "trainPredictPlot[look_back:len(trainPredict)+look_back, :] = trainPredict\n",
    "\n",
    "# shift test predictions for plotting\n",
    "testPredictPlot = np.empty_like(dataset)\n",
    "testPredictPlot[:, :] = np.nan\n",
    "testPredictPlot[len(trainPredict)+(look_back*2)+1:len(dataset)-1, :] = testPredict\n",
    "\n",
    "# plot baseline and predictions\n",
    "plt.plot(scaler.inverse_transform(dataset))\n",
    "plt.plot(trainPredictPlot)\n",
    "plt.plot(testPredictPlot)\n",
    "plt.show()"
   ]
  },
  {
   "cell_type": "code",
   "execution_count": null,
   "metadata": {
    "collapsed": false
   },
   "outputs": [],
   "source": []
  },
  {
   "cell_type": "code",
   "execution_count": null,
   "metadata": {
    "collapsed": true
   },
   "outputs": [],
   "source": []
  },
  {
   "cell_type": "code",
   "execution_count": null,
   "metadata": {
    "collapsed": true
   },
   "outputs": [],
   "source": []
  },
  {
   "cell_type": "code",
   "execution_count": null,
   "metadata": {
    "collapsed": true
   },
   "outputs": [],
   "source": []
  },
  {
   "cell_type": "code",
   "execution_count": null,
   "metadata": {
    "collapsed": true
   },
   "outputs": [],
   "source": []
  }
 ],
 "metadata": {
  "anaconda-cloud": {},
  "kernelspec": {
   "display_name": "Python 3",
   "language": "python",
   "name": "python3"
  },
  "language_info": {
   "codemirror_mode": {
    "name": "ipython",
    "version": 3
   },
   "file_extension": ".py",
   "mimetype": "text/x-python",
   "name": "python",
   "nbconvert_exporter": "python",
   "pygments_lexer": "ipython3",
   "version": "3.5.2"
  }
 },
 "nbformat": 4,
 "nbformat_minor": 1
}
